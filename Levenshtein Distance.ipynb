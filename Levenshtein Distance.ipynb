{
 "cells": [
  {
   "cell_type": "markdown",
   "metadata": {},
   "source": [
    "# Recursive Function"
   ]
  },
  {
   "cell_type": "code",
   "execution_count": 1,
   "metadata": {},
   "outputs": [],
   "source": [
    "def levenshteinRecursive(str1, str2, m, n):\n",
    "\tif m == 0:\n",
    "\t\treturn n\n",
    "\tif n == 0:\n",
    "\t\treturn m\n",
    "\tif str1[m - 1] == str2[n - 1]:\n",
    "\t\treturn levenshteinRecursive(str1, str2, m - 1, n - 1)\n",
    "\treturn 1 + min(\n",
    "\t\tlevenshteinRecursive(str1, str2, m, n - 1), #elave etme\n",
    "\t\tmin(\n",
    "\t\t\tlevenshteinRecursive(str1, str2, m - 1, n), #silme\n",
    "\t\t\tlevenshteinRecursive(str1, str2, m - 1, n - 1)) # deyisme\n",
    "\t)"
   ]
  },
  {
   "cell_type": "markdown",
   "metadata": {},
   "source": [
    "# Full Matrix(DP optimization)"
   ]
  },
  {
   "cell_type": "code",
   "execution_count": null,
   "metadata": {},
   "outputs": [],
   "source": [
    "def levenshteinFullMatrix(str1, str2):\n",
    "\tm = len(str1)\n",
    "\tn = len(str2)\n",
    "\tdp = [[0 for _ in range(n + 1)] for _ in range(m + 1)]\n",
    "\tfor i in range(m + 1):\n",
    "\t\tdp[i][0] = i\n",
    "\tfor j in range(n + 1):\n",
    "\t\tdp[0][j] = j\n",
    "\tfor i in range(1, m + 1):\n",
    "\t\tfor j in range(1, n + 1):\n",
    "\t\t\tif str1[i - 1] == str2[j - 1]:\n",
    "\t\t\t\tdp[i][j] = dp[i - 1][j - 1]\n",
    "\t\t\telse:\n",
    "\t\t\t\tdp[i][j] = 1 + min(dp[i][j - 1], dp[i - 1][j], dp[i - 1][j - 1])\n",
    "\treturn dp[m][n]\n"
   ]
  },
  {
   "cell_type": "markdown",
   "metadata": {},
   "source": [
    "# Full Matrix Raw"
   ]
  },
  {
   "cell_type": "code",
   "execution_count": null,
   "metadata": {},
   "outputs": [],
   "source": [
    "def levenshtein_two_matrix_rows(str1, str2):\n",
    "\tm = len(str1)\n",
    "\tn = len(str2)\n",
    "\tprev_row = [j for j in range(n + 1)]\n",
    "\tcurr_row = [0] * (n + 1)\n",
    "\tfor i in range(1, m + 1):\n",
    "\t\tcurr_row[0] = i\n",
    "\t\tfor j in range(1, n + 1):\n",
    "\t\t\tif str1[i - 1] == str2[j - 1]:\n",
    "\t\t\t\tcurr_row[j] = prev_row[j - 1]\n",
    "\t\t\telse:\n",
    "\t\t\t\tcurr_row[j] = 1 + min(\n",
    "\t\t\t\t\tcurr_row[j - 1], # daxil etme\n",
    "\t\t\t\t\tprev_row[j],\t # silme\n",
    "\t\t\t\t\tprev_row[j - 1] # deyisme\n",
    "\t\t\t\t)\n",
    "\t\tprev_row = curr_row.copy()\n",
    "\treturn curr_row[n]\n"
   ]
  }
 ],
 "metadata": {
  "kernelspec": {
   "display_name": "Python 3",
   "language": "python",
   "name": "python3"
  },
  "language_info": {
   "codemirror_mode": {
    "name": "ipython",
    "version": 3
   },
   "file_extension": ".py",
   "mimetype": "text/x-python",
   "name": "python",
   "nbconvert_exporter": "python",
   "pygments_lexer": "ipython3",
   "version": "3.10.11"
  }
 },
 "nbformat": 4,
 "nbformat_minor": 2
}
